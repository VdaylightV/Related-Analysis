{
 "cells": [
  {
   "cell_type": "markdown",
   "metadata": {},
   "source": [
    "# $LAB9$ $TASK2$"
   ]
  },
  {
   "cell_type": "markdown",
   "metadata": {},
   "source": [
    "## 任务一：关联分析"
   ]
  },
  {
   "cell_type": "markdown",
   "metadata": {},
   "source": [
    "调库"
   ]
  },
  {
   "cell_type": "code",
   "execution_count": 4,
   "metadata": {},
   "outputs": [],
   "source": [
    "import pandas as pd\n",
    "import numpy as np\n",
    "import math\n",
    "from sklearn.decomposition import PCA\n",
    "import matplotlib.pyplot as plt\n",
    "from apyori import apriori"
   ]
  },
  {
   "cell_type": "markdown",
   "metadata": {},
   "source": [
    "导入数据并矩阵化"
   ]
  },
  {
   "cell_type": "code",
   "execution_count": 5,
   "metadata": {},
   "outputs": [
    {
     "data": {
      "text/plain": [
       "array([['vhigh', 'vhigh', '2', ..., 'small', 'low', 'unacc'],\n",
       "       ['vhigh', 'vhigh', '2', ..., 'small', 'med', 'unacc'],\n",
       "       ['vhigh', 'vhigh', '2', ..., 'small', 'high', 'unacc'],\n",
       "       ...,\n",
       "       ['low', 'low', '5more', ..., 'big', 'low', 'unacc'],\n",
       "       ['low', 'low', '5more', ..., 'big', 'med', 'good'],\n",
       "       ['low', 'low', '5more', ..., 'big', 'high', 'vgood']], dtype=object)"
      ]
     },
     "execution_count": 5,
     "metadata": {},
     "output_type": "execute_result"
    }
   ],
   "source": [
    "filename = 'E:/大学课程/AI程序设计/实验部分/实验9 聚类-关联-异常/实验课聚类关联分析/car.data.csv'\n",
    "data_origin = pd.read_csv(filename, engine = 'python')\n",
    "data_origin_matrix = data_origin.values\n",
    "data_origin_matrix"
   ]
  },
  {
   "cell_type": "markdown",
   "metadata": {},
   "source": [
    "对数据表中各个属性的值进行区分"
   ]
  },
  {
   "cell_type": "code",
   "execution_count": 6,
   "metadata": {},
   "outputs": [],
   "source": [
    "for item in data_origin_matrix:\n",
    "    if item[0]=='vhigh':\n",
    "        item[0]='buying_vhigh'\n",
    "    elif item[0]=='high':\n",
    "        item[0]='buying_high'\n",
    "    elif item[0]=='med':\n",
    "        item[0]='buying_med'\n",
    "    else:\n",
    "        item[0]='buying_low'\n",
    "        \n",
    "for item in data_origin_matrix:\n",
    "    if item[1]=='vhigh':\n",
    "        item[1]='paint_vhigh'\n",
    "    elif item[1]=='high':\n",
    "        item[1]='paint_high'\n",
    "    elif item[1]=='med':\n",
    "        item[1]='paint_med'\n",
    "    else:\n",
    "        item[1]='paint_low'\n",
    "        \n",
    "for item in data_origin_matrix:\n",
    "    if item[2]=='2':\n",
    "        item[2]='doors_2'\n",
    "    elif item[2]=='3':\n",
    "        item[2]='doors_3'\n",
    "    elif item[2]=='4':\n",
    "        item[2]='doors_4'\n",
    "    else:\n",
    "        item[2]='doors_5more'\n",
    "        \n",
    "for item in data_origin_matrix:\n",
    "    if item[3]=='2':\n",
    "        item[3]='person_2'\n",
    "    elif item[3]=='4':\n",
    "        item[3]='person_4'\n",
    "    else:\n",
    "        item[3]='person_more'\n",
    "    \n",
    "for item in data_origin_matrix:\n",
    "    if item[4]=='small':\n",
    "        item[4]='lug_boot_small'\n",
    "    elif item[4]=='med':\n",
    "        item[4]='lug_boot_med'\n",
    "    else:\n",
    "        item[4]='lug_boot_big'\n",
    "        \n",
    "\n",
    "for item in data_origin_matrix:\n",
    "    if item[5]=='low':\n",
    "        item[5]='safety_low'\n",
    "    elif item[5]=='med':\n",
    "        item[5]='safety_med'\n",
    "    else:\n",
    "        item[5]='safety_high'"
   ]
  },
  {
   "cell_type": "markdown",
   "metadata": {},
   "source": [
    "利用$Python$中$apyori$库中的$apriori$函数进行关联分析"
   ]
  },
  {
   "cell_type": "markdown",
   "metadata": {},
   "source": [
    "设置置信度，支持度，提升度"
   ]
  },
  {
   "cell_type": "markdown",
   "metadata": {},
   "source": [
    "$Support$（支持度）：表示同时包含 $A$ 和 $B$ 的事务占所有事务的比例。如果用 $P(A)$ 表示包含 $A$ 的事务的比例，那么 $Support$ = $P$ $($ $A$ & $B$$)$"
   ]
  },
  {
   "cell_type": "markdown",
   "metadata": {},
   "source": [
    "$Confidence$（可信度）：表示包含 $A$ 的事务中同时包含 $B$ 的事务的比例，即同时包含 $A$ 和 $B$ 的事务占包含 $A$ 的事务的比例。公式表达：$Confidence$ = $P$($A$ & $B$)/ $P$($A$)"
   ]
  },
  {
   "cell_type": "markdown",
   "metadata": {},
   "source": [
    "$Lift$（提升度）：表示“包含 $A$ 的事务中同时包含 $B$ 的事务的比例”与“包含 $B$ 的事务的比例”的比值。公式表达：$Lift$ = ( $P$（$A$ & $B$）/ $P$($A$) ) / $P$($B$) = $P$（$A$ & $B$）/ $P$($A$) / $P$($B$)。\n",
    "\n",
    "提升度反映了关联规则中的 $A$ 与 $B$ 的相关性，提升度 $> 1$ 且越高表明正相关性越高，提升度 $< 1$ 且越低表明负相关性越高，提升度 $= 1$ 表明没有相关性。"
   ]
  },
  {
   "cell_type": "code",
   "execution_count": 7,
   "metadata": {},
   "outputs": [],
   "source": [
    "min_supp = 0.3\n",
    "min_conf = 0.8"
   ]
  },
  {
   "cell_type": "code",
   "execution_count": 8,
   "metadata": {},
   "outputs": [
    {
     "data": {
      "text/plain": [
       "[RelationRecord(items=frozenset({'person_2', 'unacc'}), support=0.3333333333333333, ordered_statistics=[OrderedStatistic(items_base=frozenset({'person_2'}), items_add=frozenset({'unacc'}), confidence=1.0, lift=1.428099173553719)]),\n",
       " RelationRecord(items=frozenset({'unacc', 'safety_low'}), support=0.3333333333333333, ordered_statistics=[OrderedStatistic(items_base=frozenset({'safety_low'}), items_add=frozenset({'unacc'}), confidence=1.0, lift=1.428099173553719)])]"
      ]
     },
     "execution_count": 8,
     "metadata": {},
     "output_type": "execute_result"
    }
   ],
   "source": [
    "results = list(apriori(transactions = data_origin_matrix, min_support = min_supp,min_confidence=min_conf))\n",
    "results"
   ]
  },
  {
   "cell_type": "markdown",
   "metadata": {},
   "source": [
    "如果取$min$_$supp$=$0.3$,$min$_$conf$=$0.8$,那么可以得到关联分析的结果：\n",
    "\n",
    "$person$属性的值$2$,与分类结果$unacc$具有较强相关性，$person=2$$->$$unacc$,支持度为$0.3$,置信度为$1.0$\n",
    "\n",
    "$safety$属性的值$low$,与分类结果$unacc$也具有较强的相关性，$safety$=$low$$->$$unacc$,支持度为$0.3$,置信度为$1.0$\n"
   ]
  },
  {
   "cell_type": "code",
   "execution_count": 9,
   "metadata": {},
   "outputs": [],
   "source": [
    "min_supp = 0.2\n",
    "min_conf = 0.6"
   ]
  },
  {
   "cell_type": "code",
   "execution_count": 10,
   "metadata": {},
   "outputs": [
    {
     "data": {
      "text/plain": [
       "[RelationRecord(items=frozenset({'unacc'}), support=0.7002314814814815, ordered_statistics=[OrderedStatistic(items_base=frozenset(), items_add=frozenset({'unacc'}), confidence=0.7002314814814815, lift=1.0)]),\n",
       " RelationRecord(items=frozenset({'unacc', 'buying_vhigh'}), support=0.20833333333333334, ordered_statistics=[OrderedStatistic(items_base=frozenset({'buying_vhigh'}), items_add=frozenset({'unacc'}), confidence=0.8333333333333334, lift=1.1900826446280992)]),\n",
       " RelationRecord(items=frozenset({'unacc', 'lug_boot_big'}), support=0.21296296296296297, ordered_statistics=[OrderedStatistic(items_base=frozenset({'lug_boot_big'}), items_add=frozenset({'unacc'}), confidence=0.638888888888889, lift=0.9123966942148761)]),\n",
       " RelationRecord(items=frozenset({'unacc', 'lug_boot_med'}), support=0.22685185185185186, ordered_statistics=[OrderedStatistic(items_base=frozenset({'lug_boot_med'}), items_add=frozenset({'unacc'}), confidence=0.6805555555555556, lift=0.971900826446281)]),\n",
       " RelationRecord(items=frozenset({'lug_boot_small', 'unacc'}), support=0.2604166666666667, ordered_statistics=[OrderedStatistic(items_base=frozenset({'lug_boot_small'}), items_add=frozenset({'unacc'}), confidence=0.7812500000000001, lift=1.115702479338843)]),\n",
       " RelationRecord(items=frozenset({'paint_vhigh', 'unacc'}), support=0.20833333333333334, ordered_statistics=[OrderedStatistic(items_base=frozenset({'paint_vhigh'}), items_add=frozenset({'unacc'}), confidence=0.8333333333333334, lift=1.1900826446280992)]),\n",
       " RelationRecord(items=frozenset({'person_2', 'unacc'}), support=0.3333333333333333, ordered_statistics=[OrderedStatistic(items_base=frozenset({'person_2'}), items_add=frozenset({'unacc'}), confidence=1.0, lift=1.428099173553719)]),\n",
       " RelationRecord(items=frozenset({'unacc', 'safety_low'}), support=0.3333333333333333, ordered_statistics=[OrderedStatistic(items_base=frozenset({'safety_low'}), items_add=frozenset({'unacc'}), confidence=1.0, lift=1.428099173553719)]),\n",
       " RelationRecord(items=frozenset({'unacc', 'safety_med'}), support=0.2065972222222222, ordered_statistics=[OrderedStatistic(items_base=frozenset({'safety_med'}), items_add=frozenset({'unacc'}), confidence=0.6197916666666666, lift=0.8851239669421487)])]"
      ]
     },
     "execution_count": 10,
     "metadata": {},
     "output_type": "execute_result"
    }
   ],
   "source": [
    "results = list(apriori(transactions = data_origin_matrix, min_support = min_supp,min_confidence=min_conf))\n",
    "results"
   ]
  },
  {
   "cell_type": "markdown",
   "metadata": {},
   "source": [
    "如果取$min$_$supp$=$0.2$,$min$_$conf$=$0.6$,那么可以得到关联分析的结果：\n",
    "\n",
    "$person$属性的值$2$,与分类结果$unacc$具有较强相关性，$person=2$$->$$unacc$,支持度为$0.3$,置信度为$1.0$\n",
    "\n",
    "$safety$属性的值$low$,与分类结果$unacc$具有较强的相关性，$safety$=$low$$->$$unacc$,支持度为$0.3$,置信度为$1.0$\n",
    "\n",
    "$safety$属性的值$med$,与分类结果$unacc$具有较强的相关性，$safety$=$med$$->$$unacc$,支持度为$0.21$,置信度为$0.62$\n",
    "\n",
    "$lug_boot$属性的值$big$,与分类结果$unacc$也具有较强的相关性，$lug_boot$=$big$$->$$unacc$,支持度为$0.21$,置信度为$0.64$\n",
    "\n",
    "$lug_boot$属性的值$med$,与分类结果$unacc$也具有较强的相关性，$lug_boot$=$med$$->$$unacc$,支持度为$0.23$,置信度为$0.68$\n",
    "\n",
    "$lug_boot$属性的值$small$,与分类结果$unacc$也具有较强的相关性，$lug_boot$=$small$$->$$unacc$,支持度为$0.26$,置信度为$0.78$\n",
    "\n",
    "$paint$属性的值$vhigh$,与分类结果$unacc$也具有较强的相关性，$paint$=$vhigh$$->$$unacc$,支持度为$0.21$,置信度为$0.83$\n"
   ]
  },
  {
   "cell_type": "markdown",
   "metadata": {},
   "source": [
    "## 任务二：聚类"
   ]
  },
  {
   "cell_type": "markdown",
   "metadata": {},
   "source": [
    "调库"
   ]
  },
  {
   "cell_type": "code",
   "execution_count": 11,
   "metadata": {},
   "outputs": [],
   "source": [
    "from sklearn.cluster import KMeans"
   ]
  },
  {
   "cell_type": "markdown",
   "metadata": {},
   "source": [
    "重新导入数据"
   ]
  },
  {
   "cell_type": "code",
   "execution_count": 44,
   "metadata": {},
   "outputs": [
    {
     "data": {
      "text/plain": [
       "array([['vhigh', 'vhigh', '2', '2', 'small', 'low'],\n",
       "       ['vhigh', 'vhigh', '2', '2', 'small', 'med'],\n",
       "       ['vhigh', 'vhigh', '2', '2', 'small', 'high'],\n",
       "       ...,\n",
       "       ['low', 'low', '5more', 'more', 'big', 'low'],\n",
       "       ['low', 'low', '5more', 'more', 'big', 'med'],\n",
       "       ['low', 'low', '5more', 'more', 'big', 'high']], dtype=object)"
      ]
     },
     "execution_count": 44,
     "metadata": {},
     "output_type": "execute_result"
    }
   ],
   "source": [
    "filename = 'E:/大学课程/AI程序设计/实验部分/实验9 聚类-关联-异常/实验课聚类关联分析/car.data.csv'\n",
    "data_origin = pd.read_csv(filename, engine = 'python')\n",
    "data_mid = data_origin.loc[:,['buying','paint','doors','persons','lug_boot','safety']]\n",
    "data_mid_matrix=data_mid.values"
   ]
  },
  {
   "cell_type": "markdown",
   "metadata": {},
   "source": [
    "处理数据"
   ]
  },
  {
   "cell_type": "code",
   "execution_count": 54,
   "metadata": {},
   "outputs": [],
   "source": [
    "for item in data_mid_matrix:\n",
    "    if item[0]=='vhigh':\n",
    "        item[0]=4\n",
    "    elif item[0]=='high':\n",
    "        item[0]=3\n",
    "    elif item[0]=='med':\n",
    "        item[0]=2\n",
    "    else:\n",
    "        item[0]=1\n",
    "        \n",
    "for item in data_mid_matrix:\n",
    "    if item[1]=='vhigh':\n",
    "        item[1]=4\n",
    "    elif item[1]=='high':\n",
    "        item[1]=3\n",
    "    elif item[1]=='med':\n",
    "        item[1]=2\n",
    "    else:\n",
    "        item[1]=1\n",
    "        \n",
    "for item in data_mid_matrix:\n",
    "    if item[2]=='2':\n",
    "        item[2]=2\n",
    "    elif item[2]=='3':\n",
    "        item[2]=3\n",
    "    elif item[2]=='4':\n",
    "        item[2]=4\n",
    "    else:\n",
    "        item[2]=5\n",
    "        \n",
    "for item in data_mid_matrix:\n",
    "    if item[3]=='2':\n",
    "        item[3]=2\n",
    "    elif item[3]=='4':\n",
    "        item[3]=4\n",
    "    else:\n",
    "        item[3]=5\n",
    "    \n",
    "for item in data_mid_matrix:\n",
    "    if item[4]=='small':\n",
    "        item[4]=1\n",
    "    elif item[4]=='med':\n",
    "        item[4]=2\n",
    "    else:\n",
    "        item[4]=3\n",
    "        \n",
    "\n",
    "for item in data_mid_matrix:\n",
    "    if item[5]=='low':\n",
    "        item[5]=1\n",
    "    elif item[5]=='med':\n",
    "        item[5]=2\n",
    "    else:\n",
    "        item[5]=3"
   ]
  },
  {
   "cell_type": "markdown",
   "metadata": {},
   "source": [
    "聚类"
   ]
  },
  {
   "cell_type": "code",
   "execution_count": 55,
   "metadata": {},
   "outputs": [
    {
     "name": "stderr",
     "output_type": "stream",
     "text": [
      "F:\\Anaconda\\lib\\site-packages\\sklearn\\cluster\\k_means_.py:971: ConvergenceWarning: Number of distinct clusters (1) found smaller than n_clusters (4). Possibly due to duplicate points in X.\n",
      "  return_n_iter=True)\n"
     ]
    }
   ],
   "source": [
    "clf = KMeans(n_clusters=4)\n",
    "y_pred = clf.fit_predict(data_mid_matrix)"
   ]
  },
  {
   "cell_type": "markdown",
   "metadata": {},
   "source": [
    "可视化聚类与关联分析的关系"
   ]
  },
  {
   "cell_type": "code",
   "execution_count": 56,
   "metadata": {},
   "outputs": [],
   "source": [
    "X_person_lst = []\n",
    "X_safety_lst = []\n",
    "X_paint_lst = []\n",
    "X_lugboot_lst = []\n",
    "Y_lst = []\n",
    "\n",
    "for item in data_origin_matrix:\n",
    "    X_person_lst.append(item[3])\n",
    "    X_safety_lst.append(item[5])\n",
    "    X_paint_lst.append(item[1])\n",
    "    X_lugboot_lst.append(item[4])\n",
    "    \n",
    "    Y_lst.append(item[6])"
   ]
  },
  {
   "cell_type": "code",
   "execution_count": 57,
   "metadata": {},
   "outputs": [
    {
     "data": {
      "text/plain": [
       "<matplotlib.collections.PathCollection at 0xb73f2b0>"
      ]
     },
     "execution_count": 57,
     "metadata": {},
     "output_type": "execute_result"
    },
    {
     "data": {
      "image/png": "[encoded data removed]",
      "text/plain": [
       "<Figure size 432x288 with 1 Axes>"
      ]
     },
     "metadata": {
      "needs_background": "light"
     },
     "output_type": "display_data"
    },
    {
     "data": {
      "image/png": "[encoded data removed]",
      "text/plain": [
       "<Figure size 432x288 with 1 Axes>"
      ]
     },
     "metadata": {
      "needs_background": "light"
     },
     "output_type": "display_data"
    },
    {
     "data": {
      "image/png": "[encoded data removed]",
      "text/plain": [
       "<Figure size 432x288 with 1 Axes>"
      ]
     },
     "metadata": {
      "needs_background": "light"
     },
     "output_type": "display_data"
    },
    {
     "data": {
      "image/png": "[encoded data removed]",
      "text/plain": [
       "<Figure size 432x288 with 1 Axes>"
      ]
     },
     "metadata": {
      "needs_background": "light"
     },
     "output_type": "display_data"
    }
   ],
   "source": [
    "ax1 = plt.figure().add_subplot(111)\n",
    "ax1.scatter(X_person_lst,Y_lst, c=y_pred,marker='o',alpha = 0.2)\n",
    "ax2 = plt.figure().add_subplot(111)\n",
    "ax2.scatter(X_safety_lst,Y_lst, c=y_pred,marker='x',alpha = 0.2)\n",
    "ax3 = plt.figure().add_subplot(111)\n",
    "ax3.scatter(X_paint_lst,Y_lst, c=y_pred,marker='s',alpha = 0.2)\n",
    "ax4 = plt.figure().add_subplot(111)\n",
    "ax4.scatter(X_lugboot_lst,Y_lst, c=y_pred,marker='*',alpha = 0.2)"
   ]
  },
  {
   "cell_type": "markdown",
   "metadata": {},
   "source": [
    "通过图示可以观察出，上述的关联分析得到的结果，在聚类之中显现了出来，例如$person$=$2$与$unacc$的便很明显，$safety$=$low$与$unacc$的关系也很明显，$paint$,$lug$_$boot$与$unacc$的关系可以通过点的颜色深度观察出来"
   ]
  },
  {
   "cell_type": "code",
   "execution_count": null,
   "metadata": {},
   "outputs": [],
   "source": []
  },
  {
   "cell_type": "code",
   "execution_count": null,
   "metadata": {},
   "outputs": [],
   "source": []
  }
 ],
 "metadata": {
  "kernelspec": {
   "display_name": "Python 3",
   "language": "python",
   "name": "python3"
  },
  "language_info": {
   "codemirror_mode": {
    "name": "ipython",
    "version": 3
   },
   "file_extension": ".py",
   "mimetype": "text/x-python",
   "name": "python",
   "nbconvert_exporter": "python",
   "pygments_lexer": "ipython3",
   "version": "3.7.1"
  }
 },
 "nbformat": 4,
 "nbformat_minor": 2
}
